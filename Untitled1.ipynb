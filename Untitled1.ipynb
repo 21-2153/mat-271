{
  "nbformat": 4,
  "nbformat_minor": 0,
  "metadata": {
    "colab": {
      "provenance": []
    },
    "kernelspec": {
      "name": "python3",
      "display_name": "Python 3"
    },
    "language_info": {
      "name": "python"
    }
  },
  "cells": [
    {
      "cell_type": "code",
      "execution_count": null,
      "metadata": {
        "id": "fcT_6S0YvE4T"
      },
      "outputs": [],
      "source": [
        "import numpy as np\n",
        "\n",
        "# Define a function to calculate the mean\n",
        "def mean(numbers):\n",
        "    return sum(numbers) / len(numbers)\n",
        "\n",
        "# Define a function to calculate the median\n",
        "def median(numbers):\n",
        "    sorted_numbers = sorted(numbers)\n",
        "    length = len(numbers)\n",
        "    if length % 2 == 0:\n",
        "        return (sorted_numbers[length//2] + sorted_numbers[length//2-1]) / 2\n",
        "    else:\n",
        "        return sorted_numbers[length//2]\n",
        "\n",
        "# Define a function to calculate the mode\n",
        "def mode(numbers):\n",
        "    from collections import Counter\n",
        "    counts = Counter(numbers)\n",
        "    max_count = max(counts.values())\n",
        "    modes = [num for num, count in counts.items() if count == max_count]\n",
        "    return modes[0]\n",
        "\n",
        "# Define a function to predict house pricing\n",
        "def predict_price(features):\n",
        "    # Create a dictionary of feature coefficients\n",
        "    coefficients = {\n",
        "        'intercept': 100,\n",
        "        'bedrooms': 50,\n",
        "        'bathrooms': 75,\n",
        "        'square_feet': 0.1,\n",
        "        'year_built': -0.05\n",
        "    }\n",
        "    # Calculate the predicted price\n",
        "    price = coefficients['intercept']\n",
        "    for feature, value in features.items():\n",
        "        price += coefficients[feature] * value\n",
        "    return price\n",
        "\n",
        "# Generate some sample data\n",
        "bedrooms = [2, 3, 4, 2, 3, 4, 2, 3, 4]\n",
        "bathrooms = [1, 1, 1, 2, 2, 2, 3, 3, 3]\n",
        "square_feet = [1000, 1500, 2000, 1250, 1750, 2250, 1500, 2000, 2500]\n",
        "year_built = [2000, 2005, 2010, 1995, 2000, 2005, 1990, 1995, 2000]\n",
        "prices = [100000, 150000, 200000, 125000, 175000, 225000, 150000, 200000, 250000]\n",
        "\n",
        "# Calculate the mean, median, and mode of each feature\n",
        "mean_bedrooms = mean(bedrooms)\n",
        "median_bedrooms = median(bedrooms)\n",
        "mode_bedrooms = mode(bedrooms)\n",
        "\n",
        "mean_bathrooms = mean(bathrooms)\n",
        "median_bathrooms = median(bathrooms)\n",
        "mode_bathrooms = mode(bathrooms)\n",
        "\n",
        "mean_square_feet = mean(square_feet)\n",
        "median_square_feet = median(square_feet)\n",
        "mode_square_feet = mode(square_feet)\n",
        "\n",
        "mean_year_built = mean(year_built)\n",
        "median_year_built = median(year_built)\n",
        "mode_year_built = mode(year_built)\n",
        "\n",
        "mean_prices = mean(prices)\n",
        "median_prices = median(prices)\n",
        "mode_prices = mode(prices)\n",
        "\n",
        "print(\"Mean bedrooms: \", mean_bedrooms)\n",
        "print(\"Median bedrooms: \", median_bedrooms)\n",
        "print(\"Mode bedrooms: \", mode_bedrooms)\n",
        "\n",
        "print(\"Mean bathrooms: \", mean_bathrooms)\n",
        "print(\"Median bathrooms: \", median_bathrooms)\n",
        "print(\"Mode bathrooms: \", mode_bathrooms)\n",
        "\n",
        "print(\"Mean square feet: \", mean_square_feet)\n",
        "print(\"Median square feet: \", median_square_feet)\n",
        "print(\"Mode square feet: \", mode_square_feet)\n",
        "\n",
        "print(\"Mean year built: \", mean_year_built)\n",
        "print(\"Median year built: \", median_year_built)\n",
        "print(\"Mode year built:\", mode_year_built)"
      ]
      #draw_a_histogram
     import_matplotlib.pyplot_as_plt
      x=[bedrooms]
  plt.hist(pricing,bins=5)
plt.tittle("house_pricing_prediction")
plt.xlabel("bedrooms")
plt.ylabel("pricing")
plt.show()
    }
  ]
}
